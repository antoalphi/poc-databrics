{
 "cells": [
  {
   "cell_type": "code",
   "execution_count": 0,
   "metadata": {
    "application/vnd.databricks.v1+cell": {
     "cellMetadata": {
      "byteLimit": 2048000,
      "rowLimit": 10000
     },
     "inputWidgets": {},
     "nuid": "d46b570c-e307-4ba0-ae36-c6525d137968",
     "showTitle": false,
     "tableResultSettingsMap": {},
     "title": ""
    }
   },
   "outputs": [],
   "source": [
    "#import\n",
    "from pyspark.sql.types import StructType, StructField, IntegerType, StringType, TimestampType\n",
    "from pyspark.sql.functions import col, trim, to_date\n",
    "from pyspark.sql.functions import trim, lower, regexp_replace"
   ]
  },
  {
   "cell_type": "code",
   "execution_count": 0,
   "metadata": {
    "application/vnd.databricks.v1+cell": {
     "cellMetadata": {
      "byteLimit": 2048000,
      "rowLimit": 10000
     },
     "inputWidgets": {},
     "nuid": "38c32476-df31-4235-91ed-2ecb1451b245",
     "showTitle": false,
     "tableResultSettingsMap": {},
     "title": ""
    }
   },
   "outputs": [],
   "source": [
    "# Define schema for Reviews.csv\n",
    "reviews_schema = StructType([\n",
    "    StructField(\"listing_id\", IntegerType(), True),\n",
    "    StructField(\"id\", IntegerType(), True),\n",
    "    StructField(\"date\", TimestampType(), True),\n",
    "    StructField(\"reviewer_id\", IntegerType(), True),\n",
    "    StructField(\"reviewer_name\", StringType(), True),\n",
    "    StructField(\"comments\", StringType(), True)\n",
    "])\n",
    "\n",
    "# Load into DataFrame from managed volume\n",
    "bronze_reviews_df = spark.read.csv(\n",
    "    \"/Volumes/diggibyte/airbnb/bronze_vol/Reviews.csv\",\n",
    "    schema=reviews_schema,\n",
    "    header=True\n",
    ")\n",
    "\n",
    "# Define schema for Listings_data_dictionary.csv\n",
    "listings_schema = StructType([\n",
    "    StructField(\"id\", StringType(), True),\n",
    "    StructField(\"name\", StringType(), True),\n",
    "    StructField(\"description\", StringType(), True),\n",
    "    StructField(\"host_id\", StringType(), True),\n",
    "    StructField(\"host_name\", StringType(), True),\n",
    "    StructField(\"neighbourhood\", StringType(), True),\n",
    "    StructField(\"room_type\", StringType(), True),\n",
    "    StructField(\"price\", StringType(), True)\n",
    "])\n",
    "\n",
    "# Load into DataFrame from managed volume\n",
    "bronze_listings_df = spark.read.csv(\n",
    "    \"/Volumes/diggibyte/airbnb/bronze_vol/Listings.csv\",\n",
    "    schema=listings_schema,\n",
    "    header=True\n",
    ")\n",
    "\n",
    "bronze_reviews_df.show()\n",
    "bronze_listings_df.show()"
   ]
  },
  {
   "cell_type": "code",
   "execution_count": 0,
   "metadata": {
    "application/vnd.databricks.v1+cell": {
     "cellMetadata": {
      "byteLimit": 2048000,
      "implicitDf": true,
      "rowLimit": 10000
     },
     "inputWidgets": {},
     "nuid": "2dc4bc6d-a98f-44ca-9d3e-17a42a2b3694",
     "showTitle": false,
     "tableResultSettingsMap": {},
     "title": ""
    }
   },
   "outputs": [],
   "source": [
    "%sql\n",
    "SHOW VOLUMES;"
   ]
  },
  {
   "cell_type": "code",
   "execution_count": 0,
   "metadata": {
    "application/vnd.databricks.v1+cell": {
     "cellMetadata": {
      "byteLimit": 2048000,
      "rowLimit": 10000
     },
     "inputWidgets": {},
     "nuid": "9029f4d9-faf1-4617-8667-4755f7fb4bda",
     "showTitle": false,
     "tableResultSettingsMap": {},
     "title": ""
    }
   },
   "outputs": [],
   "source": [
    "#Silver layer\n",
    "\n",
    "#Review\n",
    "silver_reviews_df = (\n",
    "    bronze_reviews_df\n",
    "    .filter(col(\"listing_id\").isNotNull() & col(\"date\").isNotNull())\n",
    "    .withColumn(\"reviewer_name\", trim(col(\"reviewer_name\")))\n",
    "    .withColumn(\"date\", to_date(col(\"date\")))  # convert to proper date\n",
    "    .dropDuplicates([\"id\"])  # drop duplicate reviews\n",
    ")\n",
    "\n",
    "#Listing\n",
    "\n",
    "silver_listings_df = (\n",
    "    bronze_listings_df\n",
    "    .withColumn(\"price\", regexp_replace(col(\"price\"), \"[$,]\", \"\").cast(\"double\"))\n",
    "    .withColumn(\"neighbourhood\", trim(lower(col(\"neighbourhood\"))))\n",
    "    .withColumn(\"room_type\", trim(col(\"room_type\")))\n",
    "    .filter(col(\"room_type\").isin(\"Entire home/apt\", \"Private room\", \"Shared room\", \"Hotel room\"))b\n",
    ")\n",
    "\n",
    "#Register as tables in Unity Catalog:\n",
    " \n",
    "silver_reviews_df.write.saveAsTable(\"diggibyte.airbnb.silver_reviews\", mode=\"overwrite\")\n",
    "silver_listings_df.write.saveAsTable(\"diggibyte.airbnb.silver_listings\", mode=\"overwrite\")"
   ]
  },
  {
   "cell_type": "markdown",
   "metadata": {
    "application/vnd.databricks.v1+cell": {
     "cellMetadata": {
      "byteLimit": 2048000,
      "rowLimit": 10000
     },
     "inputWidgets": {},
     "nuid": "0a3068e2-e63e-42fa-ba81-ed0ccbfdfb4a",
     "showTitle": false,
     "tableResultSettingsMap": {},
     "title": ""
    }
   },
   "source": [
    "### Summary of Gold Layer Outputs\n",
    "\n",
    "- Host Performance KPIs → top hosts, avg pricing, reviews.\n",
    "- Neighbourhood Insights → avg price, popularity, demand hotspots.\n",
    "- Room Type Trends → what’s popular and at what cost.\n",
    "- Time-based Review Trends → seasonality, growth.\n",
    "- Revenue Estimation → host & neighborhood revenue."
   ]
  },
  {
   "cell_type": "code",
   "execution_count": 0,
   "metadata": {
    "application/vnd.databricks.v1+cell": {
     "cellMetadata": {
      "byteLimit": 2048000,
      "rowLimit": 10000
     },
     "inputWidgets": {},
     "nuid": "d68a5627-0eda-4e52-a584-548dffe0f58d",
     "showTitle": false,
     "tableResultSettingsMap": {},
     "title": ""
    }
   },
   "outputs": [],
   "source": [
    "#Gold layer imports\n",
    "from pyspark.sql.functions import (\n",
    "    count,\n",
    "    avg,\n",
    "    sum as _sum,\n",
    "    year,\n",
    "    month,\n",
    "    col\n",
    ")\n"
   ]
  },
  {
   "cell_type": "code",
   "execution_count": 0,
   "metadata": {
    "application/vnd.databricks.v1+cell": {
     "cellMetadata": {
      "byteLimit": 2048000,
      "rowLimit": 10000
     },
     "inputWidgets": {},
     "nuid": "3417bc12-fccd-4079-953b-5e0506ee9272",
     "showTitle": false,
     "tableResultSettingsMap": {},
     "title": ""
    }
   },
   "outputs": [],
   "source": [
    "# 1. Host Performance\n",
    "review_counts_df = (\n",
    "    silver_reviews_df\n",
    "    .groupBy(\"listing_id\")\n",
    "    .agg(count(\"*\").alias(\"review_count\"))\n",
    ")\n",
    "\n",
    "gold_host_perf = (\n",
    "    silver_listings_df\n",
    "    .groupBy(\"host_id\", \"host_name\")\n",
    "    .agg(\n",
    "        count(\"id\").alias(\"total_listings\"),\n",
    "        avg(\"price\").alias(\"avg_price\")\n",
    "    )\n",
    "    .join(\n",
    "        silver_listings_df\n",
    "        .join(review_counts_df, silver_listings_df.id == review_counts_df.listing_id, \"left\")\n",
    "        .groupBy(\"host_id\", \"host_name\")\n",
    "        .agg(_sum(\"review_count\").alias(\"total_reviews\")),\n",
    "        [\"host_id\", \"host_name\"],\n",
    "        \"left\"\n",
    "    )\n",
    ")\n",
    "\n",
    "# 2. Neighbourhood Insights\n",
    "gold_neigh = (\n",
    "    silver_listings_df\n",
    "    .groupBy(\"neighbourhood\")\n",
    "    .agg(\n",
    "        avg(\"price\").alias(\"avg_price\"),\n",
    "        count(\"id\").alias(\"total_listings\")\n",
    "    )\n",
    ")\n",
    "\n",
    "# 3. Room Type Trends\n",
    "gold_roomtype = (\n",
    "    silver_listings_df\n",
    "    .groupBy(\"room_type\")\n",
    "    .agg(\n",
    "        count(\"id\").alias(\"total_listings\"),\n",
    "        avg(\"price\").alias(\"avg_price\")\n",
    "    )\n",
    ")\n",
    "\n",
    "# 4. Revenue Estimation\n",
    "gold_revenue = (\n",
    "    silver_listings_df\n",
    "    .join(silver_reviews_df, silver_listings_df.id == silver_reviews_df.listing_id, \"inner\")\n",
    "    .groupBy(\"host_id\", \"host_name\")\n",
    "    .agg(_sum(\"price\").alias(\"est_revenue\"))\n",
    ")\n",
    "\n",
    "# Register as tables in Unity Catalog:\n",
    "gold_host_perf.write.saveAsTable(\n",
    "    \"diggibyte.airbnb.gold_host_perf\",\n",
    "    mode=\"overwrite\"\n",
    ")\n",
    "gold_neigh.write.saveAsTable(\n",
    "    \"diggibyte.airbnb.gold_neigh\",\n",
    "    mode=\"overwrite\"\n",
    ")\n",
    "gold_roomtype.write.saveAsTable(\n",
    "    \"diggibyte.airbnb.gold_roomtype\",\n",
    "    mode=\"overwrite\"\n",
    ")\n",
    " \n",
    "gold_revenue.write.saveAsTable(\n",
    "    \"diggibyte.airbnb.gold_revenue\",\n",
    "    mode=\"overwrite\"\n",
    ")"
   ]
  },
  {
   "cell_type": "code",
   "execution_count": 0,
   "metadata": {
    "application/vnd.databricks.v1+cell": {
     "cellMetadata": {
      "byteLimit": 2048000,
      "implicitDf": true,
      "rowLimit": 10000
     },
     "inputWidgets": {},
     "nuid": "0083cdbf-4edc-4c0d-8922-dce7a4c71076",
     "showTitle": false,
     "tableResultSettingsMap": {},
     "title": ""
    }
   },
   "outputs": [],
   "source": [
    "%sql\n",
    "SELECT * FROM diggibyte.airbnb.silver_reviews"
   ]
  }
 ],
 "metadata": {
  "application/vnd.databricks.v1+notebook": {
   "computePreferences": null,
   "dashboards": [],
   "environmentMetadata": {
    "base_environment": "",
    "environment_version": "3"
   },
   "inputWidgetPreferences": null,
   "language": "python",
   "notebookMetadata": {
    "mostRecentlyExecutedCommandWithImplicitDF": {
     "commandId": 8569995335092007,
     "dataframes": [
      "_sqldf"
     ]
    },
    "pythonIndentUnit": 4
   },
   "notebookName": "airbnb-poc",
   "widgets": {}
  },
  "language_info": {
   "name": "python"
  }
 },
 "nbformat": 4,
 "nbformat_minor": 0
}
